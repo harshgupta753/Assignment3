{
 "cells": [
  {
   "cell_type": "code",
   "execution_count": 1,
   "id": "2c02871b-ac96-4639-aa06-8d12fc682f57",
   "metadata": {},
   "outputs": [],
   "source": [
    "#def function is used to create a function"
   ]
  },
  {
   "cell_type": "code",
   "execution_count": 2,
   "id": "28faffc5-b180-445d-b610-3de74b9df45e",
   "metadata": {},
   "outputs": [],
   "source": [
    "o = range(0,26)\n",
    "o1 = []\n",
    "def odd(o):\n",
    "    for i in o:\n",
    "        if i % 2 != 0:\n",
    "            o1.append(i)\n",
    "    return o1"
   ]
  },
  {
   "cell_type": "code",
   "execution_count": 3,
   "id": "a3c082fb-0453-4eb3-9212-f9fbd19db213",
   "metadata": {},
   "outputs": [
    {
     "data": {
      "text/plain": [
       "[1, 3, 5, 7, 9, 11, 13, 15, 17, 19, 21, 23, 25]"
      ]
     },
     "execution_count": 3,
     "metadata": {},
     "output_type": "execute_result"
    }
   ],
   "source": [
    "odd(o)"
   ]
  },
  {
   "cell_type": "code",
   "execution_count": 4,
   "id": "2403509a-7f57-48bf-9abd-482a0ec1d3ee",
   "metadata": {},
   "outputs": [],
   "source": [
    "#q2\n",
    "#*args means we can pass 'n' number of arguments in the functionIt will store the data in tuples.\n",
    "#**kwargs means we can pass 'n' number of arguments in terms of dict."
   ]
  },
  {
   "cell_type": "code",
   "execution_count": 5,
   "id": "fa427ce3-77bd-41f0-95e6-b16ec80a17ce",
   "metadata": {},
   "outputs": [],
   "source": [
    "#example of *args (we can use another word in the place of args)\n",
    "def test1(*args):\n",
    "    return args"
   ]
  },
  {
   "cell_type": "code",
   "execution_count": 7,
   "id": "055993c2-3260-43e3-b40f-271989187625",
   "metadata": {},
   "outputs": [
    {
     "data": {
      "text/plain": [
       "(1, 2, 3, 4, 'harsh', 'school', [2345, 23.453])"
      ]
     },
     "execution_count": 7,
     "metadata": {},
     "output_type": "execute_result"
    }
   ],
   "source": [
    "test1(1,2,3,4,\"harsh\",\"school\",[2345,23.453])"
   ]
  },
  {
   "cell_type": "code",
   "execution_count": 9,
   "id": "3b31b398-653b-4dd4-bec8-cad608727414",
   "metadata": {},
   "outputs": [],
   "source": [
    "# example of **kwargs\n",
    "def test2(**kwargs):\n",
    "    return kwargs"
   ]
  },
  {
   "cell_type": "code",
   "execution_count": 10,
   "id": "1d87b483-3f29-4e23-b014-b52d8c384d2a",
   "metadata": {},
   "outputs": [
    {
     "data": {
      "text/plain": [
       "dict"
      ]
     },
     "execution_count": 10,
     "metadata": {},
     "output_type": "execute_result"
    }
   ],
   "source": [
    "type(test2())"
   ]
  },
  {
   "cell_type": "code",
   "execution_count": 11,
   "id": "f36bd87b-37be-4f5a-80f6-669337bb2f62",
   "metadata": {},
   "outputs": [
    {
     "data": {
      "text/plain": [
       "{'a': [1, 2, 3], 'b': 'python', 'c': 23.256}"
      ]
     },
     "execution_count": 11,
     "metadata": {},
     "output_type": "execute_result"
    }
   ],
   "source": [
    "test2(a = [1,2,3], b = \"python\", c = 23.256)"
   ]
  },
  {
   "cell_type": "code",
   "execution_count": 4,
   "id": "22344375-ef39-44e6-bda2-1eaa3e25d00b",
   "metadata": {},
   "outputs": [],
   "source": [
    "#q3\n",
    "#An iterator in Python is an object that allows you to iterate over elements, one at a time. To initialize an iterator object, the \"iter\" method is used. For iteration, the \"next\" method is used."
   ]
  },
  {
   "cell_type": "code",
   "execution_count": 3,
   "id": "184c9709-3862-4890-996a-9874b6ede18a",
   "metadata": {},
   "outputs": [
    {
     "name": "stdout",
     "output_type": "stream",
     "text": [
      "2\n",
      "4\n",
      "6\n",
      "8\n",
      "10\n"
     ]
    }
   ],
   "source": [
    "l = [2, 4, 6, 8, 10, 12, 14, 16, 18, 20]\n",
    "iterator = iter(l)\n",
    "\n",
    "for i in range(5):\n",
    "  print(next(iterator))"
   ]
  },
  {
   "cell_type": "code",
   "execution_count": 5,
   "id": "1c94268f-5b2b-4455-9d19-5d2cc80f720f",
   "metadata": {},
   "outputs": [],
   "source": [
    "#q4\n",
    "#Python provides a generator to create your own iterator function. A generator is a special type of function which does not return a single value, instead, it returns an iterator object with a sequence of values. In a generator function, a yield statement is used rather than a return statement. The following is a simple generator function."
   ]
  },
  {
   "cell_type": "code",
   "execution_count": 38,
   "id": "f84ba7eb-d1e1-4a12-9150-e36783b562f1",
   "metadata": {},
   "outputs": [],
   "source": [
    "def generator(n):\n",
    "    a= 1\n",
    "    b = 10\n",
    "    while a <= b:\n",
    "        result = n * a\n",
    "        yield result\n",
    "        a = a + 1\n",
    "    result"
   ]
  },
  {
   "cell_type": "code",
   "execution_count": 39,
   "id": "6b8f96b5-926b-490e-abf2-8d1415a12687",
   "metadata": {},
   "outputs": [
    {
     "name": "stdout",
     "output_type": "stream",
     "text": [
      "2\n",
      "4\n",
      "6\n",
      "8\n",
      "10\n",
      "12\n",
      "14\n",
      "16\n",
      "18\n",
      "20\n"
     ]
    }
   ],
   "source": [
    "for i in generator(2):\n",
    "    print(i)"
   ]
  },
  {
   "cell_type": "code",
   "execution_count": 41,
   "id": "fd0d3a68-ae2f-4b19-b3f9-2dc870eb36bb",
   "metadata": {},
   "outputs": [
    {
     "name": "stdout",
     "output_type": "stream",
     "text": [
      "The first 20 prime numbers are:\n",
      "2\n",
      "3\n",
      "5\n",
      "7\n",
      "11\n",
      "13\n",
      "17\n",
      "19\n",
      "23\n",
      "29\n",
      "31\n",
      "37\n",
      "41\n",
      "43\n",
      "47\n",
      "53\n",
      "59\n",
      "61\n",
      "67\n",
      "71\n"
     ]
    }
   ],
   "source": [
    "def prime_numbers():\n",
    "    for number in range(2, 1000):\n",
    "        for i in range(2, number):\n",
    "            if (number % i) == 0:\n",
    "                break\n",
    "        else:\n",
    "            yield number\n",
    "\n",
    "prime_generator = prime_numbers()\n",
    "\n",
    "print(\"The first 20 prime numbers are:\")\n",
    "for i in range(20):\n",
    "    print(next(prime_generator))"
   ]
  },
  {
   "cell_type": "code",
   "execution_count": 48,
   "id": "0ce3a3f0-78a5-4500-9f01-be4003ee9939",
   "metadata": {},
   "outputs": [
    {
     "name": "stdin",
     "output_type": "stream",
     "text": [
      "Enter Number 10\n"
     ]
    },
    {
     "name": "stdout",
     "output_type": "stream",
     "text": [
      "0\n",
      "1\n",
      "1\n",
      "2\n",
      "3\n",
      "5\n",
      "8\n",
      "13\n",
      "21\n",
      "34\n"
     ]
    }
   ],
   "source": [
    "n = int(input(\"Enter Number\"))\n",
    "a = 0 \n",
    "b = 1\n",
    "c = 0\n",
    "while n > 0:\n",
    "    print(a)\n",
    "    c = a + b\n",
    "    a = b\n",
    "    b = c\n",
    "    n = n - 1"
   ]
  },
  {
   "cell_type": "code",
   "execution_count": 56,
   "id": "f342ecf1-4f0a-40a4-aa20-72f42085458e",
   "metadata": {},
   "outputs": [
    {
     "data": {
      "text/plain": [
       "['p', 'w', 's', 'k', 'i', 'l', 'l', 's']"
      ]
     },
     "execution_count": 56,
     "metadata": {},
     "output_type": "execute_result"
    }
   ],
   "source": [
    "#7\n",
    "[i for i in v]"
   ]
  },
  {
   "cell_type": "code",
   "execution_count": 66,
   "id": "48f22f23-c80a-48c0-b54a-616b2bf8eb51",
   "metadata": {},
   "outputs": [],
   "source": [
    "odd = list(range(1,101))"
   ]
  },
  {
   "cell_type": "code",
   "execution_count": 63,
   "id": "3514aa10-f9ef-406f-86c6-db98db377a8c",
   "metadata": {},
   "outputs": [
    {
     "name": "stdout",
     "output_type": "stream",
     "text": [
      "[1, 2, 3, 4, 5, 6, 7, 8, 9, 10, 11, 12, 13, 14, 15, 16, 17, 18, 19, 20, 21, 22, 23, 24, 25, 26, 27, 28, 29, 30, 31, 32, 33, 34, 35, 36, 37, 38, 39, 40, 41, 42, 43, 44, 45, 46, 47, 48, 49, 50, 51, 52, 53, 54, 55, 56, 57, 58, 59, 60, 61, 62, 63, 64, 65, 66, 67, 68, 69, 70, 71, 72, 73, 74, 75, 76, 77, 78, 79, 80, 81, 82, 83, 84, 85, 86, 87, 88, 89, 90, 91, 92, 93, 94, 95, 96, 97, 98, 99, 100]\n"
     ]
    }
   ],
   "source": [
    "numbers = [i for i in range(1,101)]\n",
    "print(numbers)"
   ]
  },
  {
   "cell_type": "code",
   "execution_count": 68,
   "id": "e3622efc-f211-41b5-ac00-6b2bb7e6f233",
   "metadata": {},
   "outputs": [
    {
     "ename": "TypeError",
     "evalue": "'int' object is not iterable",
     "output_type": "error",
     "traceback": [
      "\u001b[0;31m---------------------------------------------------------------------------\u001b[0m",
      "\u001b[0;31mTypeError\u001b[0m                                 Traceback (most recent call last)",
      "Cell \u001b[0;32mIn[68], line 1\u001b[0m\n\u001b[0;32m----> 1\u001b[0m [\u001b[38;5;28mlist\u001b[39m(i) \u001b[38;5;28;01mfor\u001b[39;00m i \u001b[38;5;129;01min\u001b[39;00m \u001b[38;5;28mrange\u001b[39m(\u001b[38;5;241m1\u001b[39m,\u001b[38;5;241m101\u001b[39m) \u001b[38;5;28;01mif\u001b[39;00m i \u001b[38;5;241m%\u001b[39m \u001b[38;5;241m2\u001b[39m \u001b[38;5;241m!=\u001b[39m \u001b[38;5;241m0\u001b[39m]\n",
      "Cell \u001b[0;32mIn[68], line 1\u001b[0m, in \u001b[0;36m<listcomp>\u001b[0;34m(.0)\u001b[0m\n\u001b[0;32m----> 1\u001b[0m [\u001b[38;5;28;43mlist\u001b[39;49m\u001b[43m(\u001b[49m\u001b[43mi\u001b[49m\u001b[43m)\u001b[49m \u001b[38;5;28;01mfor\u001b[39;00m i \u001b[38;5;129;01min\u001b[39;00m \u001b[38;5;28mrange\u001b[39m(\u001b[38;5;241m1\u001b[39m,\u001b[38;5;241m101\u001b[39m) \u001b[38;5;28;01mif\u001b[39;00m i \u001b[38;5;241m%\u001b[39m \u001b[38;5;241m2\u001b[39m \u001b[38;5;241m!=\u001b[39m \u001b[38;5;241m0\u001b[39m]\n",
      "\u001b[0;31mTypeError\u001b[0m: 'int' object is not iterable"
     ]
    }
   ],
   "source": [
    "[list(i) for i in range(1,101) if i % 2 != 0]"
   ]
  },
  {
   "cell_type": "code",
   "execution_count": null,
   "id": "7091f87d-efb4-4e3a-b8a4-f20c12c3366f",
   "metadata": {},
   "outputs": [],
   "source": []
  }
 ],
 "metadata": {
  "kernelspec": {
   "display_name": "Python 3 (ipykernel)",
   "language": "python",
   "name": "python3"
  },
  "language_info": {
   "codemirror_mode": {
    "name": "ipython",
    "version": 3
   },
   "file_extension": ".py",
   "mimetype": "text/x-python",
   "name": "python",
   "nbconvert_exporter": "python",
   "pygments_lexer": "ipython3",
   "version": "3.10.8"
  }
 },
 "nbformat": 4,
 "nbformat_minor": 5
}
